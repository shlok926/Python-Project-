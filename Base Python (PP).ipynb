{
  "metadata": {
    "kernelspec": {
      "name": "python",
      "display_name": "Python (Pyodide)",
      "language": "python"
    },
    "language_info": {
      "codemirror_mode": {
        "name": "python",
        "version": 3
      },
      "file_extension": ".py",
      "mimetype": "text/x-python",
      "name": "python",
      "nbconvert_exporter": "python",
      "pygments_lexer": "ipython3",
      "version": "3.8"
    },
    "varInspector": {
      "cols": {
        "lenName": 16,
        "lenType": 16,
        "lenVar": 40
      },
      "kernels_config": {
        "python": {
          "delete_cmd_postfix": "",
          "delete_cmd_prefix": "del ",
          "library": "var_list.py",
          "varRefreshCmd": "print(var_dic_list())"
        },
        "r": {
          "delete_cmd_postfix": ") ",
          "delete_cmd_prefix": "rm(",
          "library": "var_list.r",
          "varRefreshCmd": "cat(var_dic_list()) "
        }
      },
      "types_to_exclude": [
        "module",
        "function",
        "builtin_function_or_method",
        "instance",
        "_Feature"
      ],
      "window_display": false
    }
  },
  "nbformat_minor": 4,
  "nbformat": 4,
  "cells": [
    {
      "cell_type": "markdown",
      "source": "## Python Basic Programming Exercises",
      "metadata": {}
    },
    {
      "cell_type": "raw",
      "source": "Q1: What is the output of following expression\n    5 + 4 * 9 % (3 + 1) / 6 - 1",
      "metadata": {}
    },
    {
      "cell_type": "code",
      "source": "\nresult = 5 + 4 * 9 % (3 + 1) / 6 - 1\nprint(result)\n",
      "metadata": {
        "trusted": true
      },
      "outputs": [
        {
          "name": "stdout",
          "text": "4.0\n",
          "output_type": "stream"
        }
      ],
      "execution_count": 1
    },
    {
      "cell_type": "raw",
      "source": "Q2: Write a program to check if a Number is Odd or Even. Take number as a input from user at runtime.",
      "metadata": {}
    },
    {
      "cell_type": "code",
      "source": "# Function to check if a number is odd or even\ndef check_odd_even(number):\n    if number % 2 == 0:\n        return \"Even\"\n    else:\n        return \"Odd\"\n\nif __name__ == \"__main__\":\n    try:\n\n        user_input = 5\n        \n        # Check if the number is odd or even\n        result = check_odd_even(user_input)\n        \n        # Print the result\n        print(f\"The number {user_input} is {result}.\")\n    except ValueError:\n        print(\"Please enter a valid integer.\")\n",
      "metadata": {
        "trusted": true
      },
      "outputs": [
        {
          "name": "stdout",
          "text": "The number 5 is Odd.\n",
          "output_type": "stream"
        }
      ],
      "execution_count": 3
    },
    {
      "cell_type": "raw",
      "source": "Q3: Write a program to display the multiplication table by taking a number as input. \n    [Hint : Use print statement inside of a loop]",
      "metadata": {}
    },
    {
      "cell_type": "code",
      "source": "# Function to display the multiplication table\ndef multiplication_table(number):\n    print(f\"Multiplication Table for {number}:\")\n    for i in range(1, 11):  # Loop from 1 to 10\n        result = number * i\n        print(f\"{number} x {i} = {result}\")\n\nif __name__ == \"__main__\":\n    try:\n       \n        user_input = 6\n        \n        # Display the multiplication table\n        multiplication_table(user_input)\n    except ValueError:\n        print(\"Please enter a valid integer.\")\n",
      "metadata": {
        "trusted": true
      },
      "outputs": [
        {
          "name": "stdout",
          "text": "Multiplication Table for 6:\n6 x 1 = 6\n6 x 2 = 12\n6 x 3 = 18\n6 x 4 = 24\n6 x 5 = 30\n6 x 6 = 36\n6 x 7 = 42\n6 x 8 = 48\n6 x 9 = 54\n6 x 10 = 60\n",
          "output_type": "stream"
        }
      ],
      "execution_count": 4
    },
    {
      "cell_type": "raw",
      "source": "Q4: Write a program which will find all numbers between 2000 and 3200 which are divisible by 7 \n    but are not a multiple of 5.\n \nNote: The numbers obtained should be printed in a comma-separated sequence on a single line.",
      "metadata": {}
    },
    {
      "cell_type": "code",
      "source": "# Function to find numbers between 2000 and 3200 that are divisible by 7 but not a multiple of 5\ndef find_numbers():\n    results = []  \n    for num in range(2000, 3201): \n        if num % 7 == 0 and num % 5 != 0: \n            results.append(str(num)) \n    return ', '.join(results) \nif __name__ == \"__main__\":\n    numbers = find_numbers()  \n    print(numbers)  # Print the results\n",
      "metadata": {
        "trusted": true
      },
      "outputs": [
        {
          "name": "stdout",
          "text": "2002, 2009, 2016, 2023, 2037, 2044, 2051, 2058, 2072, 2079, 2086, 2093, 2107, 2114, 2121, 2128, 2142, 2149, 2156, 2163, 2177, 2184, 2191, 2198, 2212, 2219, 2226, 2233, 2247, 2254, 2261, 2268, 2282, 2289, 2296, 2303, 2317, 2324, 2331, 2338, 2352, 2359, 2366, 2373, 2387, 2394, 2401, 2408, 2422, 2429, 2436, 2443, 2457, 2464, 2471, 2478, 2492, 2499, 2506, 2513, 2527, 2534, 2541, 2548, 2562, 2569, 2576, 2583, 2597, 2604, 2611, 2618, 2632, 2639, 2646, 2653, 2667, 2674, 2681, 2688, 2702, 2709, 2716, 2723, 2737, 2744, 2751, 2758, 2772, 2779, 2786, 2793, 2807, 2814, 2821, 2828, 2842, 2849, 2856, 2863, 2877, 2884, 2891, 2898, 2912, 2919, 2926, 2933, 2947, 2954, 2961, 2968, 2982, 2989, 2996, 3003, 3017, 3024, 3031, 3038, 3052, 3059, 3066, 3073, 3087, 3094, 3101, 3108, 3122, 3129, 3136, 3143, 3157, 3164, 3171, 3178, 3192, 3199\n",
          "output_type": "stream"
        }
      ],
      "execution_count": 5
    },
    {
      "cell_type": "raw",
      "source": "Q5: Count the elements of each datatype inside the list and display in output\n    [2, 3, 'Py', '10', 1, 'SQL', 5.5, True, 3, 'John', None, 7]    ",
      "metadata": {}
    },
    {
      "cell_type": "code",
      "source": "# Given list\ndata_list = [2, 3, 'Py', '10', 1, 'SQL', 5.5, True, 3, 'John', None, 7]\n\ntype_counts = {}\n\nfor element in data_list:\n    # Get the type of the element\n    element_type = type(element)\n    \n    if element_type in type_counts:\n        type_counts[element_type] += 1\n    else:\n        type_counts[element_type] = 1\n\nfor data_type, count in type_counts.items():\n    print(f\"{data_type.__name__}: {count}\")\n",
      "metadata": {
        "trusted": true
      },
      "outputs": [
        {
          "name": "stdout",
          "text": "int: 5\nstr: 4\nfloat: 1\nbool: 1\nNoneType: 1\n",
          "output_type": "stream"
        }
      ],
      "execution_count": 6
    },
    {
      "cell_type": "raw",
      "source": "Q6: Add all values from the list with numeric datatypes \n    [2, 3, 'Py', '10', 1, 'SQL', 5.5, True, 3, 'John', None, 7] ",
      "metadata": {}
    },
    {
      "cell_type": "code",
      "source": "# Given list\ndata_list = [2, 3, 'Py', '10', 1, 'SQL', 5.5, True, 3, 'John', None, 7]\nnumeric_sum = 0\n\nfor element in data_list:\n    \n    if isinstance(element, (int, float)):\n        numeric_sum += element\n\n# Display the result\nprint(f\"The sum of all numeric values is: {numeric_sum}\")\n",
      "metadata": {
        "trusted": true
      },
      "outputs": [
        {
          "name": "stdout",
          "text": "The sum of all numeric values is: 22.5\n",
          "output_type": "stream"
        }
      ],
      "execution_count": 7
    },
    {
      "cell_type": "raw",
      "source": "Q7: Concat all str datatypes with hyphen as a delimiter\n    [2, 3, 'Py', '10', 1, 'SQL', 5.5, True, 3, 'John', None, 7] ",
      "metadata": {}
    },
    {
      "cell_type": "code",
      "source": "# Given list\ndata_list = [2, 3, 'Py', '10', 1, 'SQL', 5.5, True, 3, 'John', None, 7]\n\nstring_elements = []\n\nfor element in data_list:\n    # Check if the element is a string\n    if isinstance(element, str):\n        string_elements.append(element)\n\nresult = '-'.join(string_elements)\n\nprint(f\"The concatenated string is: {result}\")\n",
      "metadata": {
        "trusted": true
      },
      "outputs": [
        {
          "name": "stdout",
          "text": "The concatenated string is: Py-10-SQL-John\n",
          "output_type": "stream"
        }
      ],
      "execution_count": 8
    },
    {
      "cell_type": "raw",
      "source": "Q8 Get only odd numbers from the following list and store the numbers in new list\n    li = [5, 7, 22, 97, 54, 62, 77, 23, 73, 61]\n\n    i. Use loops to get the answer\n   ii. Use list comprehensions\n  iii. Use lambda function with filter",
      "metadata": {}
    },
    {
      "cell_type": "code",
      "source": "# Given list\nli = [5, 7, 22, 97, 54, 62, 77, 23, 73, 61]\n\n# i. Using loops\nodd_numbers_loop = []\nfor number in li:\n    if number % 2 != 0:  # Check if the number is odd\n        odd_numbers_loop.append(number)\nprint(\"Odd numbers using loops:\", odd_numbers_loop)\n\n\n# Using list comprehensions to get odd numbers\nodd_numbers_comprehension = [number for number in li if number % 2 != 0]\nprint(\"Odd numbers using list comprehensions:\", odd_numbers_comprehension)\n\n\n# Using lambda function with filter to get odd numbers\nodd_numbers_lambda = list(filter(lambda x: x % 2 != 0, li))\nprint(\"Odd numbers using lambda with filter:\", odd_numbers_lambda)\n",
      "metadata": {
        "trusted": true
      },
      "outputs": [
        {
          "name": "stdout",
          "text": "Odd numbers using loops: [5, 7, 97, 77, 23, 73, 61]\nOdd numbers using list comprehensions: [5, 7, 97, 77, 23, 73, 61]\nOdd numbers using lambda with filter: [5, 7, 97, 77, 23, 73, 61]\n",
          "output_type": "stream"
        }
      ],
      "execution_count": 10
    },
    {
      "cell_type": "raw",
      "source": "Q9: Write an udf to calculate the area of different shapes\n\nTake shape and dimensions as arguments to udf as follows : \n\n1. square which has side\n2. rectangle which has length and width\n3. circle which has radius\n\nThe shape should be a positional argument and it's dimensions are taken as kwargs\n\nPerform proper validation for the user inputs and then calculate area.\n\nE.g. if shape is square, ensure kwargs has \"side\" and if so, then you may return the area, else display appropriate error message like \"Please enter 'side' for a square\"",
      "metadata": {}
    },
    {
      "cell_type": "code",
      "source": "def calculate_area(shape, **kwargs):\n    if shape.lower() == \"square\":\n        side = kwargs.get(\"side\")\n        if side is None:\n            return \"Please enter 'side' for a square.\"\n        if side <= 0:\n            return \"Side length must be positive.\"\n        return side ** 2  # Area of square\n\n    elif shape.lower() == \"rectangle\":\n        length = kwargs.get(\"length\")\n        width = kwargs.get(\"width\")\n        if length is None or width is None:\n            return \"Please enter 'length' and 'width' for a rectangle.\"\n        if length <= 0 or width <= 0:\n            return \"Length and width must be positive.\"\n        return length * width  # Area of rectangle\n\n    elif shape.lower() == \"circle\":\n        radius = kwargs.get(\"radius\")\n        if radius is None:\n            return \"Please enter 'radius' for a circle.\"\n        if radius <= 0:\n            return \"Radius must be positive.\"\n        return 3.14159 * (radius ** 2)  # Area of circle\n\n    else:\n        return \"Unknown shape. Please enter 'square', 'rectangle', or 'circle'.\"\n\n# Example usage\nif __name__ == \"__main__\":\n    print(calculate_area(\"square\", side=4))           \n    print(calculate_area(\"rectangle\", length=5, width=3)) \n    print(calculate_area(\"circle\", radius=3))         \n    print(calculate_area(\"square\"))                   \n    print(calculate_area(\"rectangle\", length=5))      \n    print(calculate_area(\"circle\", radius=-2))       \n    print(calculate_area(\"triangle\"))                  \n\n    ",
      "metadata": {
        "trusted": true
      },
      "outputs": [
        {
          "name": "stdout",
          "text": "16\n15\n28.27431\nPlease enter 'side' for a square.\nPlease enter 'length' and 'width' for a rectangle.\nRadius must be positive.\nUnknown shape. Please enter 'square', 'rectangle', or 'circle'.\n",
          "output_type": "stream"
        }
      ],
      "execution_count": 11
    },
    {
      "cell_type": "raw",
      "source": "Q10: write a UDF to check if a number is prime or not.",
      "metadata": {
        "collapsed": true,
        "jupyter": {
          "outputs_hidden": true
        }
      }
    },
    {
      "cell_type": "code",
      "source": "def is_prime(n):\n    if n <= 1:\n        return False\n    for i in range(2, int(n/2)+1):\n        if (n % i) == 0:\n            return False\n    return True\n\nnum = 6\nif is_prime(num):\n    print(num, \"is a prime number\")\nelse:\n    print(num, \"is not a prime number\")",
      "metadata": {
        "trusted": true
      },
      "outputs": [
        {
          "name": "stdout",
          "text": "6 is not a prime number\n",
          "output_type": "stream"
        }
      ],
      "execution_count": 2
    },
    {
      "cell_type": "code",
      "source": "Q11:Write a program that takes a string and returns reversed string. i.e. if input is \"abcd123\" output should be \"321dcba\" ",
      "metadata": {
        "trusted": true
      },
      "outputs": [],
      "execution_count": null
    },
    {
      "cell_type": "code",
      "source": "def reverse_string(input_string):\n    \"\"\"Return the reversed version of the input string.\"\"\"\n    return input_string[::-1]\n\n# Main program\nif __name__ == \"__main__\":\n    user_input = \"abcd123\"  \n    reversed_output = reverse_string(user_input)\n    print(\"Reversed string:\", reversed_output)\n",
      "metadata": {
        "trusted": true
      },
      "outputs": [
        {
          "name": "stdout",
          "text": "Reversed string: 321dcba\n",
          "output_type": "stream"
        }
      ],
      "execution_count": 2
    },
    {
      "cell_type": "code",
      "source": "",
      "metadata": {
        "trusted": true
      },
      "outputs": [],
      "execution_count": null
    }
  ]
}